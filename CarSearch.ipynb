{
 "cells": [
  {
   "cell_type": "code",
   "execution_count": 11,
   "metadata": {},
   "outputs": [],
   "source": [
    "import numpy as np\n",
    "import scipy as sp\n",
    "import pandas as pd\n",
    "import matplotlib.pyplot as plt\n",
    "import random\n",
    "import pickle\n",
    "import statsmodels.api as sm\n",
    "from scipy.optimize import minimize\n",
    "from sklearn.linear_model import LinearRegression\n",
    "from linearmodels import PanelOLS, PooledOLS, IV2SLS"
   ]
  },
  {
   "cell_type": "code",
   "execution_count": 12,
   "metadata": {},
   "outputs": [],
   "source": [
    "import os\n",
    "os.chdir(\"C:/Users/Canaan/Downloads\")"
   ]
  },
  {
   "cell_type": "code",
   "execution_count": 13,
   "metadata": {},
   "outputs": [
    {
     "name": "stderr",
     "output_type": "stream",
     "text": [
      "C:\\Users\\Canaan\\anaconda3\\lib\\site-packages\\IPython\\core\\interactiveshell.py:3071: DtypeWarning: Columns (14) have mixed types.Specify dtype option on import or set low_memory=False.\n",
      "  has_raised = await self.run_ast_nodes(code_ast.body, cell_name,\n"
     ]
    }
   ],
   "source": [
    "df = pd.read_csv('TitleRequest20230701041605/INC7628889_20150101_20150630.csv', header=None)"
   ]
  },
  {
   "cell_type": "code",
   "execution_count": 14,
   "metadata": {},
   "outputs": [
    {
     "name": "stdout",
     "output_type": "stream",
     "text": [
      "<class 'pandas.core.frame.DataFrame'>\n",
      "RangeIndex: 707953 entries, 0 to 707952\n",
      "Data columns (total 15 columns):\n",
      " #   Column  Non-Null Count   Dtype  \n",
      "---  ------  --------------   -----  \n",
      " 0   0       707953 non-null  object \n",
      " 1   1       707953 non-null  object \n",
      " 2   2       707922 non-null  object \n",
      " 3   3       707953 non-null  object \n",
      " 4   4       707953 non-null  object \n",
      " 5   5       707953 non-null  float64\n",
      " 6   6       674071 non-null  float64\n",
      " 7   7       707953 non-null  object \n",
      " 8   8       707953 non-null  int64  \n",
      " 9   9       707953 non-null  object \n",
      " 10  10      707953 non-null  object \n",
      " 11  11      707952 non-null  object \n",
      " 12  12      707953 non-null  object \n",
      " 13  13      707950 non-null  float64\n",
      " 14  14      707568 non-null  object \n",
      "dtypes: float64(3), int64(1), object(11)\n",
      "memory usage: 81.0+ MB\n"
     ]
    }
   ],
   "source": [
    "df.info()"
   ]
  },
  {
   "cell_type": "code",
   "execution_count": 15,
   "metadata": {},
   "outputs": [
    {
     "data": {
      "text/html": [
       "<div>\n",
       "<style scoped>\n",
       "    .dataframe tbody tr th:only-of-type {\n",
       "        vertical-align: middle;\n",
       "    }\n",
       "\n",
       "    .dataframe tbody tr th {\n",
       "        vertical-align: top;\n",
       "    }\n",
       "\n",
       "    .dataframe thead th {\n",
       "        text-align: right;\n",
       "    }\n",
       "</style>\n",
       "<table border=\"1\" class=\"dataframe\">\n",
       "  <thead>\n",
       "    <tr style=\"text-align: right;\">\n",
       "      <th></th>\n",
       "      <th>0</th>\n",
       "      <th>1</th>\n",
       "      <th>2</th>\n",
       "      <th>3</th>\n",
       "      <th>4</th>\n",
       "      <th>5</th>\n",
       "      <th>6</th>\n",
       "      <th>7</th>\n",
       "      <th>8</th>\n",
       "      <th>9</th>\n",
       "      <th>10</th>\n",
       "      <th>11</th>\n",
       "      <th>12</th>\n",
       "      <th>13</th>\n",
       "      <th>14</th>\n",
       "    </tr>\n",
       "  </thead>\n",
       "  <tbody>\n",
       "    <tr>\n",
       "      <th>0</th>\n",
       "      <td>1HD1BWV14FB025806</td>\n",
       "      <td>HD</td>\n",
       "      <td>--</td>\n",
       "      <td>MC</td>\n",
       "      <td>ROAD/STREET</td>\n",
       "      <td>22492.7</td>\n",
       "      <td>5.0</td>\n",
       "      <td>26:44.0</td>\n",
       "      <td>88</td>\n",
       "      <td>MN000079</td>\n",
       "      <td>350 TARHE TRAIL</td>\n",
       "      <td>UPPER SANDUSKY</td>\n",
       "      <td>OH</td>\n",
       "      <td>43351.0</td>\n",
       "      <td>45867</td>\n",
       "    </tr>\n",
       "    <tr>\n",
       "      <th>1</th>\n",
       "      <td>1HD1KRM19FB629953</td>\n",
       "      <td>HD</td>\n",
       "      <td>--</td>\n",
       "      <td>MC</td>\n",
       "      <td>ROAD/STREET</td>\n",
       "      <td>29044.0</td>\n",
       "      <td>7.0</td>\n",
       "      <td>39:47.0</td>\n",
       "      <td>88</td>\n",
       "      <td>MN000079</td>\n",
       "      <td>350 TARHE TRAIL</td>\n",
       "      <td>UPPER SANDUSKY</td>\n",
       "      <td>OH</td>\n",
       "      <td>43351.0</td>\n",
       "      <td>43466</td>\n",
       "    </tr>\n",
       "    <tr>\n",
       "      <th>2</th>\n",
       "      <td>1FADP3F20DL339908</td>\n",
       "      <td>FORD</td>\n",
       "      <td>FOCUS SE</td>\n",
       "      <td>4D</td>\n",
       "      <td>FOUR DOOR</td>\n",
       "      <td>13050.0</td>\n",
       "      <td>27683.0</td>\n",
       "      <td>49:43.0</td>\n",
       "      <td>56</td>\n",
       "      <td>ND000549</td>\n",
       "      <td>117 E CHURCH ST</td>\n",
       "      <td>WOODSFIELD</td>\n",
       "      <td>OH</td>\n",
       "      <td>43793.0</td>\n",
       "      <td>43793</td>\n",
       "    </tr>\n",
       "    <tr>\n",
       "      <th>3</th>\n",
       "      <td>1J8GN58K29W535563</td>\n",
       "      <td>JEEP</td>\n",
       "      <td>--</td>\n",
       "      <td>SW</td>\n",
       "      <td>STATION WAGON</td>\n",
       "      <td>12000.0</td>\n",
       "      <td>56224.0</td>\n",
       "      <td>48:28.0</td>\n",
       "      <td>83</td>\n",
       "      <td>UD001050</td>\n",
       "      <td>714 COLUMBUS AVE</td>\n",
       "      <td>LEBANON</td>\n",
       "      <td>OH</td>\n",
       "      <td>45036.0</td>\n",
       "      <td>45068</td>\n",
       "    </tr>\n",
       "    <tr>\n",
       "      <th>4</th>\n",
       "      <td>2GTEC19T421184446</td>\n",
       "      <td>GMC</td>\n",
       "      <td>SIERRA C1500SIE</td>\n",
       "      <td>PT</td>\n",
       "      <td>PICKUP TRUCK</td>\n",
       "      <td>6995.0</td>\n",
       "      <td>111339.0</td>\n",
       "      <td>48:33.0</td>\n",
       "      <td>83</td>\n",
       "      <td>UD001050</td>\n",
       "      <td>714 COLUMBUS AVE</td>\n",
       "      <td>LEBANON</td>\n",
       "      <td>OH</td>\n",
       "      <td>45036.0</td>\n",
       "      <td>45103</td>\n",
       "    </tr>\n",
       "  </tbody>\n",
       "</table>\n",
       "</div>"
      ],
      "text/plain": [
       "                  0     1                2   3              4        5   \\\n",
       "0  1HD1BWV14FB025806    HD               --  MC    ROAD/STREET  22492.7   \n",
       "1  1HD1KRM19FB629953    HD               --  MC    ROAD/STREET  29044.0   \n",
       "2  1FADP3F20DL339908  FORD         FOCUS SE  4D      FOUR DOOR  13050.0   \n",
       "3  1J8GN58K29W535563  JEEP               --  SW  STATION WAGON  12000.0   \n",
       "4  2GTEC19T421184446   GMC  SIERRA C1500SIE  PT   PICKUP TRUCK   6995.0   \n",
       "\n",
       "         6        7   8         9                 10              11  12  \\\n",
       "0       5.0  26:44.0  88  MN000079   350 TARHE TRAIL  UPPER SANDUSKY  OH   \n",
       "1       7.0  39:47.0  88  MN000079   350 TARHE TRAIL  UPPER SANDUSKY  OH   \n",
       "2   27683.0  49:43.0  56  ND000549   117 E CHURCH ST      WOODSFIELD  OH   \n",
       "3   56224.0  48:28.0  83  UD001050  714 COLUMBUS AVE         LEBANON  OH   \n",
       "4  111339.0  48:33.0  83  UD001050  714 COLUMBUS AVE         LEBANON  OH   \n",
       "\n",
       "        13     14  \n",
       "0  43351.0  45867  \n",
       "1  43351.0  43466  \n",
       "2  43793.0  43793  \n",
       "3  45036.0  45068  \n",
       "4  45036.0  45103  "
      ]
     },
     "execution_count": 15,
     "metadata": {},
     "output_type": "execute_result"
    }
   ],
   "source": [
    "df.head()"
   ]
  },
  {
   "cell_type": "code",
   "execution_count": 16,
   "metadata": {},
   "outputs": [],
   "source": [
    "##firstType = ((-df.iloc[:, 15].isna()) & (df.iloc[:, 16].isna()))\n",
    "##secondType = ((-df.iloc[:, 15].isna()) & (-df.iloc[:, 16].isna()))\n"
   ]
  },
  {
   "cell_type": "code",
   "execution_count": 17,
   "metadata": {},
   "outputs": [],
   "source": [
    "columName = [\"VIN\", \"make\", \"model\", \"BT\", \"BTD\", \"price\", \"mileage\", \"date\", \"countyCode\",\n",
    "             \"dealerNum\", \"dealerST\", \"dealerCity\", \"dealerState\", \"dealerZIP\", \"ownerZIP\"]\n",
    "df.columns = columName"
   ]
  },
  {
   "cell_type": "code",
   "execution_count": 18,
   "metadata": {},
   "outputs": [
    {
     "name": "stdout",
     "output_type": "stream",
     "text": [
      "<class 'pandas.core.frame.DataFrame'>\n",
      "RangeIndex: 707953 entries, 0 to 707952\n",
      "Data columns (total 15 columns):\n",
      " #   Column       Non-Null Count   Dtype  \n",
      "---  ------       --------------   -----  \n",
      " 0   VIN          707953 non-null  object \n",
      " 1   make         707953 non-null  object \n",
      " 2   model        707922 non-null  object \n",
      " 3   BT           707953 non-null  object \n",
      " 4   BTD          707953 non-null  object \n",
      " 5   price        707953 non-null  float64\n",
      " 6   mileage      674071 non-null  float64\n",
      " 7   date         707953 non-null  object \n",
      " 8   countyCode   707953 non-null  int64  \n",
      " 9   dealerNum    707953 non-null  object \n",
      " 10  dealerST     707953 non-null  object \n",
      " 11  dealerCity   707952 non-null  object \n",
      " 12  dealerState  707953 non-null  object \n",
      " 13  dealerZIP    707950 non-null  float64\n",
      " 14  ownerZIP     707553 non-null  float64\n",
      "dtypes: float64(4), int64(1), object(10)\n",
      "memory usage: 81.0+ MB\n"
     ]
    }
   ],
   "source": [
    "df['ownerZIP'] = pd.to_numeric(df['ownerZIP'], errors='coerce')\n",
    "df.info()\n",
    "\n"
   ]
  },
  {
   "cell_type": "code",
   "execution_count": 20,
   "metadata": {},
   "outputs": [],
   "source": [
    "zipcross = pd.read_csv('ZipCodetoZCTACrosswalk2015UDS (1).csv')\n",
    "zipcross = zipcross[[\"ZIP\", \"ZCTA_USE\"]]"
   ]
  },
  {
   "cell_type": "code",
   "execution_count": 21,
   "metadata": {},
   "outputs": [],
   "source": [
    "df = df.merge(zipcross, left_on='ownerZIP', right_on='ZIP')"
   ]
  },
  {
   "cell_type": "code",
   "execution_count": 23,
   "metadata": {},
   "outputs": [],
   "source": [
    "df.to_csv('C:/Users/Canaan/Downloads/20150106Title.csv') "
   ]
  },
  {
   "cell_type": "code",
   "execution_count": 24,
   "metadata": {},
   "outputs": [
    {
     "name": "stderr",
     "output_type": "stream",
     "text": [
      "C:\\Users\\Canaan\\anaconda3\\lib\\site-packages\\IPython\\core\\interactiveshell.py:3071: DtypeWarning: Columns (14) have mixed types.Specify dtype option on import or set low_memory=False.\n",
      "  has_raised = await self.run_ast_nodes(code_ast.body, cell_name,\n"
     ]
    }
   ],
   "source": [
    "df = pd.read_csv('TitleRequest20230701041605/INC7628889_20150701_20151231.csv', header=None)\n",
    "df.columns = columName\n",
    "df['ownerZIP'] = pd.to_numeric(df['ownerZIP'], errors='coerce')\n",
    "df.info()\n",
    "df.to_csv('C:/Users/Canaan/Downloads/20150712Title.csv') "
   ]
  },
  {
   "cell_type": "code",
   "execution_count": 26,
   "metadata": {},
   "outputs": [],
   "source": [
    "df = pd.read_csv('TitleRequest20230701041605/INC7628889_20160101_20160630.csv', header=None)\n",
    "df.columns = columName\n",
    "df['ownerZIP'] = pd.to_numeric(df['ownerZIP'], errors='coerce')\n",
    "df.info()\n",
    "df.to_csv('C:/Users/Canaan/Downloads/20160106Title.csv') "
   ]
  },
  {
   "cell_type": "code",
   "execution_count": 29,
   "metadata": {},
   "outputs": [
    {
     "name": "stdout",
     "output_type": "stream",
     "text": [
      "<class 'pandas.core.frame.DataFrame'>\n",
      "RangeIndex: 687549 entries, 0 to 687548\n",
      "Data columns (total 15 columns):\n",
      " #   Column       Non-Null Count   Dtype  \n",
      "---  ------       --------------   -----  \n",
      " 0   VIN          687549 non-null  object \n",
      " 1   make         687549 non-null  object \n",
      " 2   model        687518 non-null  object \n",
      " 3   BT           687549 non-null  object \n",
      " 4   BTD          687549 non-null  object \n",
      " 5   price        687549 non-null  float64\n",
      " 6   mileage      656578 non-null  float64\n",
      " 7   date         687549 non-null  object \n",
      " 8   countyCode   687549 non-null  int64  \n",
      " 9   dealerNum    687549 non-null  object \n",
      " 10  dealerST     687549 non-null  object \n",
      " 11  dealerCity   687549 non-null  object \n",
      " 12  dealerState  687549 non-null  object \n",
      " 13  dealerZIP    687545 non-null  float64\n",
      " 14  ownerZIP     687267 non-null  object \n",
      "dtypes: float64(3), int64(1), object(11)\n",
      "memory usage: 78.7+ MB\n",
      "<class 'pandas.core.frame.DataFrame'>\n",
      "RangeIndex: 687549 entries, 0 to 687548\n",
      "Data columns (total 15 columns):\n",
      " #   Column       Non-Null Count   Dtype  \n",
      "---  ------       --------------   -----  \n",
      " 0   VIN          687549 non-null  object \n",
      " 1   make         687549 non-null  object \n",
      " 2   model        687518 non-null  object \n",
      " 3   BT           687549 non-null  object \n",
      " 4   BTD          687549 non-null  object \n",
      " 5   price        687549 non-null  float64\n",
      " 6   mileage      656578 non-null  float64\n",
      " 7   date         687549 non-null  object \n",
      " 8   countyCode   687549 non-null  int64  \n",
      " 9   dealerNum    687549 non-null  object \n",
      " 10  dealerST     687549 non-null  object \n",
      " 11  dealerCity   687549 non-null  object \n",
      " 12  dealerState  687549 non-null  object \n",
      " 13  dealerZIP    687545 non-null  float64\n",
      " 14  ownerZIP     687250 non-null  float64\n",
      "dtypes: float64(4), int64(1), object(10)\n",
      "memory usage: 78.7+ MB\n"
     ]
    }
   ],
   "source": [
    "df = pd.read_csv('TitleRequest20230701041605/INC7628889_20160701_20161231.csv', header=None)\n",
    "df.columns = columName\n",
    "df['ownerZIP'] = pd.to_numeric(df['ownerZIP'], errors='coerce')\n",
    "df.info()\n",
    "df.to_csv('C:/Users/Canaan/Downloads/20160712Title.csv') "
   ]
  },
  {
   "cell_type": "code",
   "execution_count": 39,
   "metadata": {},
   "outputs": [
    {
     "name": "stdout",
     "output_type": "stream",
     "text": [
      "<class 'pandas.core.frame.DataFrame'>\n",
      "RangeIndex: 731240 entries, 0 to 731239\n",
      "Data columns (total 15 columns):\n",
      " #   Column       Non-Null Count   Dtype  \n",
      "---  ------       --------------   -----  \n",
      " 0   VIN          731240 non-null  object \n",
      " 1   make         731240 non-null  object \n",
      " 2   model        731207 non-null  object \n",
      " 3   BT           731240 non-null  object \n",
      " 4   BTD          731240 non-null  object \n",
      " 5   price        731240 non-null  float64\n",
      " 6   mileage      695165 non-null  float64\n",
      " 7   date         731240 non-null  object \n",
      " 8   countyCode   731240 non-null  int64  \n",
      " 9   dealerNum    731240 non-null  object \n",
      " 10  dealerST     731240 non-null  object \n",
      " 11  dealerCity   731240 non-null  object \n",
      " 12  dealerState  731240 non-null  object \n",
      " 13  dealerZIP    731238 non-null  float64\n",
      " 14  ownerZIP     730845 non-null  float64\n",
      "dtypes: float64(4), int64(1), object(10)\n",
      "memory usage: 83.7+ MB\n"
     ]
    }
   ],
   "source": [
    "df = pd.read_csv('TitleRequest20230701041605/INC7628889_20170101_20170630.csv', header=None)\n",
    "df.columns = columName\n",
    "df['ownerZIP'] = pd.to_numeric(df['ownerZIP'], errors='coerce')\n",
    "df.info()\n",
    "df.to_csv('C:/Users/Canaan/Downloads/20170106Title.csv') "
   ]
  },
  {
   "cell_type": "code",
   "execution_count": 50,
   "metadata": {},
   "outputs": [
    {
     "name": "stderr",
     "output_type": "stream",
     "text": [
      "C:\\Users\\Canaan\\anaconda3\\lib\\site-packages\\IPython\\core\\interactiveshell.py:3071: DtypeWarning: Columns (14) have mixed types.Specify dtype option on import or set low_memory=False.\n",
      "  has_raised = await self.run_ast_nodes(code_ast.body, cell_name,\n"
     ]
    },
    {
     "name": "stdout",
     "output_type": "stream",
     "text": [
      "<class 'pandas.core.frame.DataFrame'>\n",
      "RangeIndex: 692342 entries, 0 to 692341\n",
      "Data columns (total 15 columns):\n",
      " #   Column       Non-Null Count   Dtype  \n",
      "---  ------       --------------   -----  \n",
      " 0   VIN          692342 non-null  object \n",
      " 1   make         692342 non-null  object \n",
      " 2   model        692313 non-null  object \n",
      " 3   BT           692342 non-null  object \n",
      " 4   BTD          692342 non-null  object \n",
      " 5   price        692342 non-null  float64\n",
      " 6   mileage      658145 non-null  float64\n",
      " 7   date         692342 non-null  object \n",
      " 8   countyCode   692342 non-null  int64  \n",
      " 9   dealerNum    692342 non-null  object \n",
      " 10  dealerST     692342 non-null  object \n",
      " 11  dealerCity   692342 non-null  object \n",
      " 12  dealerState  692342 non-null  object \n",
      " 13  dealerZIP    692341 non-null  float64\n",
      " 14  ownerZIP     691920 non-null  float64\n",
      "dtypes: float64(4), int64(1), object(10)\n",
      "memory usage: 79.2+ MB\n"
     ]
    }
   ],
   "source": [
    "df = pd.read_csv('TitleRequest20230701041605/INC7628889_20170701_20171231.csv', header=None)\n",
    "df.columns = columName\n",
    "df['ownerZIP'] = pd.to_numeric(df['ownerZIP'], errors='coerce')\n",
    "df.info()\n",
    "df.to_csv('C:/Users/Canaan/Downloads/20170712Title.csv') "
   ]
  },
  {
   "cell_type": "code",
   "execution_count": 1,
   "metadata": {},
   "outputs": [],
   "source": [
    "##firstType = ((-df.iloc[:, 15].isna()) & (df.iloc[:, 16].isna()))\n",
    "##secondType = ((-df.iloc[:, 15].isna()) & (-df.iloc[:, 16].isna()))\n",
    "\n",
    "##df.loc[(-df.iloc[:, 15].isna())]"
   ]
  },
  {
   "cell_type": "code",
   "execution_count": null,
   "metadata": {},
   "outputs": [],
   "source": []
  }
 ],
 "metadata": {
  "kernelspec": {
   "display_name": "Python 3",
   "language": "python",
   "name": "python3"
  },
  "language_info": {
   "codemirror_mode": {
    "name": "ipython",
    "version": 3
   },
   "file_extension": ".py",
   "mimetype": "text/x-python",
   "name": "python",
   "nbconvert_exporter": "python",
   "pygments_lexer": "ipython3",
   "version": "3.8.3"
  }
 },
 "nbformat": 4,
 "nbformat_minor": 4
}
