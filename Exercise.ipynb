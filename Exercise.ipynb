{
 "cells": [
  {
   "cell_type": "code",
   "execution_count": 1,
   "id": "9b8943d3",
   "metadata": {},
   "outputs": [],
   "source": [
    "import numpy as np\n",
    "import scipy as sp\n",
    "import pandas as pd\n",
    "import matplotlib.pyplot as plt\n",
    "import random\n",
    "import pickle\n",
    "import statsmodels.api as sm\n",
    "from scipy.optimize import minimize\n",
    "from sklearn.linear_model import LinearRegression\n",
    "from linearmodels import PanelOLS, PooledOLS, IV2SLS"
   ]
  },
  {
   "cell_type": "code",
   "execution_count": 3,
   "id": "84f78af2",
   "metadata": {},
   "outputs": [],
   "source": [
    "from  pydynpd import regression"
   ]
  },
  {
   "cell_type": "code",
   "execution_count": 4,
   "id": "669effc9",
   "metadata": {},
   "outputs": [],
   "source": [
    "df = pd.read_stata('blundell_bond_2000_production_function.dta')\n",
    "df[[\"sales\", \"labor\", \"capital\"]] = np.log(df[[\"sales\", \"labor\", \"capital\"]])"
   ]
  },
  {
   "cell_type": "code",
   "execution_count": 7,
   "id": "c06b8e1d",
   "metadata": {},
   "outputs": [
    {
     "data": {
      "text/html": [
       "<div>\n",
       "<style scoped>\n",
       "    .dataframe tbody tr th:only-of-type {\n",
       "        vertical-align: middle;\n",
       "    }\n",
       "\n",
       "    .dataframe tbody tr th {\n",
       "        vertical-align: top;\n",
       "    }\n",
       "\n",
       "    .dataframe thead th {\n",
       "        text-align: right;\n",
       "    }\n",
       "</style>\n",
       "<table border=\"1\" class=\"dataframe\">\n",
       "  <thead>\n",
       "    <tr style=\"text-align: right;\">\n",
       "      <th></th>\n",
       "      <th>id</th>\n",
       "      <th>year</th>\n",
       "      <th>sales</th>\n",
       "      <th>labor</th>\n",
       "      <th>capital</th>\n",
       "    </tr>\n",
       "  </thead>\n",
       "  <tbody>\n",
       "    <tr>\n",
       "      <th>0</th>\n",
       "      <td>886.0</td>\n",
       "      <td>1982.0</td>\n",
       "      <td>4.579228</td>\n",
       "      <td>0.571544</td>\n",
       "      <td>3.577469</td>\n",
       "    </tr>\n",
       "    <tr>\n",
       "      <th>1</th>\n",
       "      <td>886.0</td>\n",
       "      <td>1983.0</td>\n",
       "      <td>4.472189</td>\n",
       "      <td>0.640801</td>\n",
       "      <td>3.610862</td>\n",
       "    </tr>\n",
       "    <tr>\n",
       "      <th>2</th>\n",
       "      <td>886.0</td>\n",
       "      <td>1984.0</td>\n",
       "      <td>4.567035</td>\n",
       "      <td>0.440832</td>\n",
       "      <td>3.694748</td>\n",
       "    </tr>\n",
       "    <tr>\n",
       "      <th>3</th>\n",
       "      <td>886.0</td>\n",
       "      <td>1985.0</td>\n",
       "      <td>4.885006</td>\n",
       "      <td>0.547543</td>\n",
       "      <td>3.796566</td>\n",
       "    </tr>\n",
       "    <tr>\n",
       "      <th>4</th>\n",
       "      <td>886.0</td>\n",
       "      <td>1986.0</td>\n",
       "      <td>4.999058</td>\n",
       "      <td>0.547543</td>\n",
       "      <td>3.976419</td>\n",
       "    </tr>\n",
       "  </tbody>\n",
       "</table>\n",
       "</div>"
      ],
      "text/plain": [
       "      id    year     sales     labor   capital\n",
       "0  886.0  1982.0  4.579228  0.571544  3.577469\n",
       "1  886.0  1983.0  4.472189  0.640801  3.610862\n",
       "2  886.0  1984.0  4.567035  0.440832  3.694748\n",
       "3  886.0  1985.0  4.885006  0.547543  3.796566\n",
       "4  886.0  1986.0  4.999058  0.547543  3.976419"
      ]
     },
     "execution_count": 7,
     "metadata": {},
     "output_type": "execute_result"
    }
   ],
   "source": [
    "df.head()"
   ]
  },
  {
   "cell_type": "code",
   "execution_count": 8,
   "id": "e116f7ab",
   "metadata": {},
   "outputs": [
    {
     "name": "stdout",
     "output_type": "stream",
     "text": [
      "<class 'pandas.core.frame.DataFrame'>\n",
      "Int64Index: 4072 entries, 0 to 4071\n",
      "Data columns (total 5 columns):\n",
      " #   Column   Non-Null Count  Dtype  \n",
      "---  ------   --------------  -----  \n",
      " 0   id       4072 non-null   float32\n",
      " 1   year     4072 non-null   float32\n",
      " 2   sales    4072 non-null   float32\n",
      " 3   labor    4072 non-null   float32\n",
      " 4   capital  4072 non-null   float32\n",
      "dtypes: float32(5)\n",
      "memory usage: 111.3 KB\n"
     ]
    }
   ],
   "source": [
    "df.info()"
   ]
  },
  {
   "cell_type": "markdown",
   "id": "5fcaf0b8",
   "metadata": {},
   "source": [
    "#### Q2.1. OLS with time dummies. Test the null hypothesis $\\alpha_L + \\alpha_K = 1$."
   ]
  },
  {
   "cell_type": "markdown",
   "id": "edb7d0e0",
   "metadata": {},
   "source": [
    "Suppose the production fucntion is $Y_{it} =  L_{it}^{\\alpha_L} K_{it}^{\\alpha_K} \\exp(\\omega_{it}+e_{it})$.\n",
    "After taking log-transformation, we have the regression\n",
    "\n",
    "\\begin{align}\n",
    "y_{it} =  \\alpha_L l_{it} + \\alpha_K k_{it} + \\omega_{it}+e_{it}\n",
    "\\end{align}\n",
    "\n"
   ]
  },
  {
   "cell_type": "code",
   "execution_count": 9,
   "id": "7a1fdcfa",
   "metadata": {},
   "outputs": [],
   "source": [
    "dummies = pd.get_dummies(df['year']).rename(columns=lambda x: 'year_' + str(x))\n",
    "df = pd.concat([df, dummies], axis=1)\n",
    "df = df.set_index(['id', 'year'])"
   ]
  },
  {
   "cell_type": "code",
   "execution_count": 10,
   "id": "a7a60005",
   "metadata": {},
   "outputs": [],
   "source": [
    "exog_ind = ['labor', 'capital'] + [col for col in df.columns if 'year' in col]\n",
    "\n",
    "exog_var = df[exog_ind]\n",
    "endog_var = df['sales']\n",
    "\n",
    "\n",
    "\n",
    "model_OLS = sm.OLS(endog=endog_var, exog=exog_var).fit()"
   ]
  },
  {
   "cell_type": "code",
   "execution_count": 11,
   "id": "df82f72e",
   "metadata": {},
   "outputs": [
    {
     "name": "stdout",
     "output_type": "stream",
     "text": [
      "                            OLS Regression Results                            \n",
      "==============================================================================\n",
      "Dep. Variable:                  sales   R-squared:                       0.969\n",
      "Model:                            OLS   Adj. R-squared:                  0.969\n",
      "Method:                 Least Squares   F-statistic:                 1.425e+04\n",
      "Date:                Wed, 09 Aug 2023   Prob (F-statistic):               0.00\n",
      "Time:                        20:19:25   Log-Likelihood:                -1527.7\n",
      "No. Observations:                4072   AIC:                             3075.\n",
      "Df Residuals:                    4062   BIC:                             3139.\n",
      "Df Model:                           9                                         \n",
      "Covariance Type:            nonrobust                                         \n",
      "===============================================================================\n",
      "                  coef    std err          t      P>|t|      [0.025      0.975]\n",
      "-------------------------------------------------------------------------------\n",
      "labor           0.5579      0.010     56.761      0.000       0.539       0.577\n",
      "capital         0.4323      0.008     53.108      0.000       0.416       0.448\n",
      "year_1982.0     3.0468      0.032     96.644      0.000       2.985       3.109\n",
      "year_1983.0     2.9900      0.032     93.384      0.000       2.927       3.053\n",
      "year_1984.0     2.9968      0.033     91.932      0.000       2.933       3.061\n",
      "year_1985.0     2.9593      0.033     88.712      0.000       2.894       3.025\n",
      "year_1986.0     2.9540      0.034     87.051      0.000       2.887       3.021\n",
      "year_1987.0     2.9887      0.034     87.450      0.000       2.922       3.056\n",
      "year_1988.0     3.0257      0.034     88.144      0.000       2.958       3.093\n",
      "year_1989.0     3.0086      0.035     86.099      0.000       2.940       3.077\n",
      "==============================================================================\n",
      "Omnibus:                      302.557   Durbin-Watson:                   0.422\n",
      "Prob(Omnibus):                  0.000   Jarque-Bera (JB):              523.230\n",
      "Skew:                           0.549   Prob(JB):                    2.41e-114\n",
      "Kurtosis:                       4.370   Cond. No.                         90.2\n",
      "==============================================================================\n",
      "\n",
      "Notes:\n",
      "[1] Standard Errors assume that the covariance matrix of the errors is correctly specified.\n"
     ]
    }
   ],
   "source": [
    "print(model_OLS.summary())"
   ]
  },
  {
   "cell_type": "markdown",
   "id": "59076afc",
   "metadata": {},
   "source": [
    "Test $\\alpha_L + \\alpha_K = 1$ by F-test and t-test separately."
   ]
  },
  {
   "cell_type": "code",
   "execution_count": 12,
   "id": "af4ec1a4",
   "metadata": {},
   "outputs": [
    {
     "data": {
      "text/plain": [
       "<class 'statsmodels.stats.contrast.ContrastResults'>\n",
       "<F test: F=array([[9.29379668]]), p=0.0023141176059295085, df_denom=4.06e+03, df_num=1>"
      ]
     },
     "execution_count": 12,
     "metadata": {},
     "output_type": "execute_result"
    }
   ],
   "source": [
    "F_test = model_OLS.f_test('labor + capital = 1')\n",
    "F_test"
   ]
  },
  {
   "cell_type": "code",
   "execution_count": 13,
   "id": "7788bef4",
   "metadata": {},
   "outputs": [
    {
     "name": "stdout",
     "output_type": "stream",
     "text": [
      "[1. 1. 0. 0. 0. 0. 0. 0. 0. 0.]\n"
     ]
    },
    {
     "data": {
      "text/plain": [
       "<class 'statsmodels.stats.contrast.ContrastResults'>\n",
       "                             Test for Constraints                             \n",
       "==============================================================================\n",
       "                 coef    std err          t      P>|t|      [0.025      0.975]\n",
       "------------------------------------------------------------------------------\n",
       "c0             0.9902      0.003     -3.049      0.002       0.984       0.996\n",
       "=============================================================================="
      ]
     },
     "execution_count": 13,
     "metadata": {},
     "output_type": "execute_result"
    }
   ],
   "source": [
    "R = np.zeros_like(model_OLS.params)\n",
    "R[0:2] = [1, 1]\n",
    "print(R)\n",
    "q = 1\n",
    "\n",
    "T_test = model_OLS.t_test((R, q))\n",
    "T_test"
   ]
  },
  {
   "cell_type": "markdown",
   "id": "e2cbc755",
   "metadata": {},
   "source": [
    "#### Q2.2. Fixed Effects estimator with time dummies. Test $\\eta_{i} = 0, \\mbox{ } \\forall i$."
   ]
  },
  {
   "cell_type": "markdown",
   "id": "4a3edb85",
   "metadata": {},
   "source": [
    "Suppose $\\omega_{it} = \\gamma_{t} + \\eta_{i}$. Then we can use time dummies to control $ \\gamma_{t}$ and the fixed effect on entity to remove $\\eta_{i}$."
   ]
  },
  {
   "cell_type": "code",
   "execution_count": 14,
   "id": "4de28a6e",
   "metadata": {},
   "outputs": [
    {
     "name": "stdout",
     "output_type": "stream",
     "text": [
      "                          PanelOLS Estimation Summary                           \n",
      "================================================================================\n",
      "Dep. Variable:                  sales   R-squared:                        0.7379\n",
      "Estimator:                   PanelOLS   R-squared (Between):              0.9537\n",
      "No. Observations:                4072   R-squared (Within):               0.7379\n",
      "Date:                Wed, Aug 09 2023   R-squared (Overall):              0.9498\n",
      "Time:                        20:19:26   Log-likelihood                    2302.2\n",
      "Cov. Estimator:            Unadjusted                                           \n",
      "                                        F-statistic:                      1111.5\n",
      "Entities:                         509   P-value                           0.0000\n",
      "Avg Obs:                       8.0000   Distribution:                  F(9,3554)\n",
      "Min Obs:                       8.0000                                           \n",
      "Max Obs:                       8.0000   F-statistic (robust):          6.321e+05\n",
      "                                        P-value                           0.0000\n",
      "Time periods:                       8   Distribution:                  F(9,3554)\n",
      "Avg Obs:                       509.00                                           \n",
      "Min Obs:                       509.00                                           \n",
      "Max Obs:                       509.00                                           \n",
      "                                                                                \n",
      "                              Parameter Estimates                              \n",
      "===============================================================================\n",
      "             Parameter  Std. Err.     T-stat    P-value    Lower CI    Upper CI\n",
      "-------------------------------------------------------------------------------\n",
      "labor           0.6545     0.0144     45.434     0.0000      0.6262      0.6827\n",
      "capital         0.2329     0.0136     17.079     0.0000      0.2062      0.2596\n",
      "year_1982.0     3.8638     0.0529     73.000     0.0000      3.7600      3.9676\n",
      "year_1983.0     3.8262     0.0541     70.689     0.0000      3.7200      3.9323\n",
      "year_1984.0     3.8562     0.0556     69.398     0.0000      3.7472      3.9651\n",
      "year_1985.0     3.8404     0.0570     67.373     0.0000      3.7286      3.9521\n",
      "year_1986.0     3.8502     0.0580     66.360     0.0000      3.7364      3.9639\n",
      "year_1987.0     3.8952     0.0586     66.416     0.0000      3.7802      4.0102\n",
      "year_1988.0     3.9392     0.0591     66.683     0.0000      3.8233      4.0550\n",
      "year_1989.0     3.9402     0.0603     65.382     0.0000      3.8221      4.0584\n",
      "===============================================================================\n",
      "\n",
      "F-test for Poolability: 38.903\n",
      "P-value: 0.0000\n",
      "Distribution: F(508,3554)\n",
      "\n",
      "Included effects: Entity\n"
     ]
    }
   ],
   "source": [
    "model_FE = PanelOLS(dependent=endog_var, exog=exog_var, entity_effects=True).fit()\n",
    "\n",
    "print(model_FE.summary)"
   ]
  },
  {
   "cell_type": "code",
   "execution_count": 15,
   "id": "63b44e0d",
   "metadata": {},
   "outputs": [
    {
     "data": {
      "text/plain": [
       "Linear Equality Hypothesis Test\n",
       "H0: Linear equality constraint is valid\n",
       "Statistic: 121.3166\n",
       "P-value: 0.0000\n",
       "Distributed: chi2(1)\n",
       "WaldTestStatistic, id: 0x7fa4901e9e20"
      ]
     },
     "execution_count": 15,
     "metadata": {},
     "output_type": "execute_result"
    }
   ],
   "source": [
    "formula = 'labor + capital = 1'\n",
    "\n",
    "model_FE.wald_test(formula=formula)"
   ]
  },
  {
   "cell_type": "markdown",
   "id": "948ee8fb",
   "metadata": {},
   "source": [
    "According the above test, we can reject the null hypothesis $\\alpha_L + \\alpha_K = 1$ under the significant level $1\\%$.\n",
    "That is, the production fucntion is decreasing return-to-scale.\n",
    "\n",
    "Also, for the test of the null hypothesis of $\\eta_i = 0\\mbox{ }, \\forall i$, \n",
    "the F-test statistics is $38.901$ and the p-value is $0$. Thus, we can reject the null hypothesis of no time-invariant unobserved heterogeneity"
   ]
  },
  {
   "cell_type": "markdown",
   "id": "636357f8",
   "metadata": {},
   "source": [
    "We expect the FE estimator to be biased. The estimator may control for the endogeneity due to the fixed effect $\\eta_i$ but not for the correlation between the regressors and transitory shock $e_{it}$."
   ]
  },
  {
   "cell_type": "markdown",
   "id": "7fe7ef1b",
   "metadata": {},
   "source": [
    "#### Q2.3. Fixed Effects - Cochrane Orcutt estimator with time dummies. Test the two over-identifying restrictions of the model. "
   ]
  },
  {
   "cell_type": "markdown",
   "id": "422425d4",
   "metadata": {},
   "source": [
    "Suppose $e_{it} = \\rho e_{it-1} + u_{it}, \\mbox{ } |\\rho| < 1$ and $u_{it}$ is independent of other variables. We have\n",
    "\\begin{align}\n",
    "y_{it} &=  \\alpha_L l_{it} + \\alpha_K k_{it} + \\omega_{it}+e_{it}\\\\\n",
    "\\rho y_{it-1} &=  \\rho\\alpha_L l_{it-1} + \\rho \\alpha_K k_{it-1} + \\rho \\omega_{it-1}+\\rho e_{it-1}.\n",
    "\\end{align}\n",
    "Thus, the regression becomes\n",
    "\\begin{align}\n",
    "y_{it} &= \\rho y_{it-1} +  \\alpha_L (l_{it}-\\rho l_{it-1}) + \\alpha_K (k_{it}-\\rho  k_{it-1} ) + (\\omega_{it}-\\rho \\omega_{it-1})+u_{it}\\\\\n",
    "       &= \\rho y_{it-1} +  \\alpha_L l_{it} - \\alpha_L \\rho l_{it-1} + \\alpha_K k_{it} - \\alpha_K \\rho  k_{it-1} + \\eta^*_i + \\gamma^*_t  +u_{it}\n",
    "\\end{align}\n",
    "\n",
    "Here suppose $\\omega_{it}-\\rho \\omega_{it-1} = \\eta^*_i + \\gamma^*_t$."
   ]
  },
  {
   "cell_type": "code",
   "execution_count": 16,
   "id": "d9894e7b",
   "metadata": {},
   "outputs": [],
   "source": [
    "exog_var = pd.concat([df['sales'].groupby('id').shift(1), df['labor'], df['labor'].groupby('id').shift(1),\n",
    "                      df['capital'], df['capital'].groupby('id').shift(1)], axis=1,\n",
    "                     keys=['sales_L1', 'labor', 'labor_L1', 'capital', 'capital_L1'])\n",
    "\n",
    "exog_var = pd.concat([exog_var.reset_index(), dummies], axis=1)\n",
    "exog_var = exog_var.set_index(['id', 'year']).dropna()\n",
    "exog_var = exog_var.loc[:,exog_var.columns != 'year_1982.0']\n",
    "\n",
    "endog_var = df['sales'].groupby('id', group_keys=False).apply(lambda group: group.iloc[1:])\n",
    "\n"
   ]
  },
  {
   "cell_type": "code",
   "execution_count": 17,
   "id": "09dd6243",
   "metadata": {},
   "outputs": [
    {
     "name": "stdout",
     "output_type": "stream",
     "text": [
      "                          PanelOLS Estimation Summary                           \n",
      "================================================================================\n",
      "Dep. Variable:                  sales   R-squared:                        0.7825\n",
      "Estimator:                   PanelOLS   R-squared (Between):              0.9745\n",
      "No. Observations:                3563   R-squared (Within):               0.7825\n",
      "Date:                Wed, Aug 09 2023   R-squared (Overall):              0.9717\n",
      "Time:                        20:19:28   Log-likelihood                    2757.2\n",
      "Cov. Estimator:            Unadjusted                                           \n",
      "                                        F-statistic:                      995.10\n",
      "Entities:                         509   P-value                           0.0000\n",
      "Avg Obs:                       7.0000   Distribution:                 F(11,3043)\n",
      "Min Obs:                       7.0000                                           \n",
      "Max Obs:                       7.0000   F-statistic (robust):          6.641e+05\n",
      "                                        P-value                           0.0000\n",
      "Time periods:                       7   Distribution:                 F(11,3043)\n",
      "Avg Obs:                       509.00                                           \n",
      "Min Obs:                       509.00                                           \n",
      "Max Obs:                       509.00                                           \n",
      "                                                                                \n",
      "                              Parameter Estimates                              \n",
      "===============================================================================\n",
      "             Parameter  Std. Err.     T-stat    P-value    Lower CI    Upper CI\n",
      "-------------------------------------------------------------------------------\n",
      "sales_L1        0.4039     0.0153     26.448     0.0000      0.3740      0.4339\n",
      "labor           0.4880     0.0167     29.266     0.0000      0.4553      0.5207\n",
      "labor_L1       -0.0231     0.0192    -1.2012     0.2298     -0.0609      0.0146\n",
      "capital         0.1765     0.0178     9.9022     0.0000      0.1416      0.2115\n",
      "capital_L1     -0.1305     0.0164    -7.9561     0.0000     -0.1627     -0.0984\n",
      "year_1983.0     2.6255     0.0800     32.835     0.0000      2.4688      2.7823\n",
      "year_1984.0     2.6819     0.0805     33.305     0.0000      2.5241      2.8398\n",
      "year_1985.0     2.6527     0.0819     32.396     0.0000      2.4921      2.8132\n",
      "year_1986.0     2.6750     0.0826     32.372     0.0000      2.5130      2.8370\n",
      "year_1987.0     2.7288     0.0834     32.733     0.0000      2.5654      2.8923\n",
      "year_1988.0     2.7566     0.0842     32.735     0.0000      2.5915      2.9217\n",
      "year_1989.0     2.7430     0.0853     32.162     0.0000      2.5758      2.9102\n",
      "===============================================================================\n",
      "\n",
      "F-test for Poolability: 3.7564\n",
      "P-value: 0.0000\n",
      "Distribution: F(508,3043)\n",
      "\n",
      "Included effects: Entity\n"
     ]
    }
   ],
   "source": [
    "model_FE_CO = PanelOLS(dependent=endog_var, exog=exog_var, entity_effects=True).fit()\n",
    "\n",
    "print(model_FE_CO.summary)"
   ]
  },
  {
   "cell_type": "code",
   "execution_count": 18,
   "id": "564d1cda",
   "metadata": {},
   "outputs": [
    {
     "data": {
      "text/plain": [
       "111.3745003554463"
      ]
     },
     "execution_count": 18,
     "metadata": {},
     "output_type": "execute_result"
    }
   ],
   "source": [
    "b = model_FE_CO.params\n",
    "\n",
    "c_b = b[0] + b[2] / b[1]\n",
    "c_b_deriv = np.array([1, -b[2]/(b[1]**2), 1/b[1], 0, 0, 0, 0, 0, 0, 0, 0, 0])\n",
    "\n",
    "testStat1 = c_b * (c_b_deriv @ (model_FE_CO.cov) @ np.transpose(c_b_deriv))**(-1) * c_b\n",
    "\n",
    "testStat1"
   ]
  },
  {
   "cell_type": "code",
   "execution_count": 19,
   "id": "e205391a",
   "metadata": {},
   "outputs": [
    {
     "data": {
      "text/plain": [
       "21.13049779231298"
      ]
     },
     "execution_count": 19,
     "metadata": {},
     "output_type": "execute_result"
    }
   ],
   "source": [
    "c_b = b[0] + b[4] / b[3]\n",
    "c_b_deriv = np.array([1, 0, 0, -b[4]/(b[3]**2), 1/b[3], 0, 0, 0, 0, 0, 0, 0])\n",
    "\n",
    "testStat2 = c_b * (c_b_deriv @ (model_FE_CO.cov) @ np.transpose(c_b_deriv))**(-1) * c_b\n",
    "\n",
    "testStat2"
   ]
  },
  {
   "cell_type": "code",
   "execution_count": 20,
   "id": "e21a6660",
   "metadata": {},
   "outputs": [
    {
     "data": {
      "text/plain": [
       "112.42524087031617"
      ]
     },
     "execution_count": 20,
     "metadata": {},
     "output_type": "execute_result"
    }
   ],
   "source": [
    "c_b = np.array([b[0] + b[2] / b[1],  b[0] + b[4] / b[3]])\n",
    "c_b_deriv = np.array([[1, -b[2]/(b[1]**2), 1/b[1], 0, 0, 0, 0, 0, 0, 0, 0, 0],\n",
    "                     [1, 0, 0, -b[4]/(b[3]**2), 1/b[3], 0, 0, 0, 0, 0, 0, 0]])\n",
    "\n",
    "testStat3 = np.transpose(c_b) @ np.linalg.inv(c_b_deriv @ (model_FE_CO.cov) @ np.transpose(c_b_deriv)) @ c_b\n",
    "\n",
    "testStat3"
   ]
  },
  {
   "cell_type": "markdown",
   "id": "305bfd09",
   "metadata": {},
   "source": [
    "#### Q2.4. Arellano-Bond GMM estimator with time dummies and non-serially correlated transitory shock."
   ]
  },
  {
   "cell_type": "markdown",
   "id": "7640a63b",
   "metadata": {},
   "source": [
    "Suppose \n",
    "\\begin{align}\n",
    "y_{it}&=  \\alpha_L l_{it} + \\alpha_K k_{it} + \\omega_{it}+e_{it}\\\\\n",
    "       \\omega_{it} &=\\eta_{i} + \\delta_t\n",
    "\\end{align}\n",
    "After taking the first difference, the equation becomes\n",
    "\\begin{align}\n",
    "\\Delta y_{it} &= \\alpha_L \\Delta l_{it} + \\alpha_K \\Delta k_{it} +  \\Delta \\omega_{it}+ \\Delta e_{it}\\\\\n",
    "                &= \\alpha_L \\Delta l_{it} + \\alpha_K \\Delta k_{it} +  \\Delta \\delta_{t}+ \\Delta e_{it}\\\\\n",
    "\\end{align}\n",
    "\n",
    "Since there is no serial correlated transitory shock in productivity, so $\\{\\Delta e_{it}\\}$ is uncorrelated with $\\{l_{it-j}, k_{it-j}, y_{it-j}\\}_{j\\geq 2}$.\n",
    "\n",
    "Suppose $l_{it} = f_{l}(l_{it-1}, k_{it-1}, \\omega_{it})$ and $k_{it} = f_{k}(l_{it-1}, k_{it-1}, \\omega_{it})$.\n",
    "Thus, we have the laggaed variables as the instruments for the regression. Let choose $\\{l_{it-2}, k_{it-2}\\}$ as valid instruments.\n"
   ]
  },
  {
   "cell_type": "code",
   "execution_count": null,
   "id": "dd4256fd-dad5-4047-8288-c05597f2f1b0",
   "metadata": {},
   "outputs": [],
   "source": [
    "df = df.reset_index()"
   ]
  },
  {
   "cell_type": "code",
   "execution_count": 65,
   "id": "5c5664de",
   "metadata": {},
   "outputs": [
    {
     "ename": "IndexError",
     "evalue": "list index out of range",
     "output_type": "error",
     "traceback": [
      "\u001b[0;31m---------------------------------------------------------------------------\u001b[0m",
      "\u001b[0;31mIndexError\u001b[0m                                Traceback (most recent call last)",
      "\u001b[0;32m/var/folders/79/7sbn_2z54k9fgyqgwhngy2gc0000gn/T/ipykernel_31775/1754610116.py\u001b[0m in \u001b[0;36m<module>\u001b[0;34m\u001b[0m\n\u001b[1;32m      1\u001b[0m \u001b[0mcommand_str\u001b[0m\u001b[0;34m=\u001b[0m\u001b[0;34m'sales labor capital  | gmm(sales, 2:.) gmm(labor, 2:.) gmm(capital, 2:.) | onestep nolevel timedumm'\u001b[0m\u001b[0;34m\u001b[0m\u001b[0;34m\u001b[0m\u001b[0m\n\u001b[0;32m----> 2\u001b[0;31m \u001b[0mmypyd\u001b[0m \u001b[0;34m=\u001b[0m \u001b[0mregression\u001b[0m\u001b[0;34m.\u001b[0m\u001b[0mabond\u001b[0m\u001b[0;34m(\u001b[0m\u001b[0mcommand_str\u001b[0m\u001b[0;34m,\u001b[0m \u001b[0mdf\u001b[0m\u001b[0;34m,\u001b[0m \u001b[0;34m[\u001b[0m\u001b[0;34m'id'\u001b[0m\u001b[0;34m,\u001b[0m \u001b[0;34m'year'\u001b[0m\u001b[0;34m]\u001b[0m\u001b[0;34m)\u001b[0m\u001b[0;34m\u001b[0m\u001b[0;34m\u001b[0m\u001b[0m\n\u001b[0m",
      "\u001b[0;32m~/opt/anaconda3/lib/python3.9/site-packages/pydynpd/regression.py\u001b[0m in \u001b[0;36m__init__\u001b[0;34m(self, command_str, df, identifiers)\u001b[0m\n\u001b[1;32m     26\u001b[0m             \u001b[0mexit\u001b[0m\u001b[0;34m(\u001b[0m\u001b[0;34m)\u001b[0m\u001b[0;34m\u001b[0m\u001b[0;34m\u001b[0m\u001b[0m\n\u001b[1;32m     27\u001b[0m \u001b[0;34m\u001b[0m\u001b[0m\n\u001b[0;32m---> 28\u001b[0;31m         \u001b[0muser_command\u001b[0m \u001b[0;34m=\u001b[0m \u001b[0mcommand\u001b[0m\u001b[0;34m(\u001b[0m\u001b[0mcommand_str\u001b[0m\u001b[0;34m,\u001b[0m \u001b[0mdf\u001b[0m\u001b[0;34m.\u001b[0m\u001b[0mcolumns\u001b[0m\u001b[0;34m)\u001b[0m\u001b[0;34m\u001b[0m\u001b[0;34m\u001b[0m\u001b[0m\n\u001b[0m\u001b[1;32m     29\u001b[0m         \u001b[0mpdata\u001b[0m \u001b[0;34m=\u001b[0m \u001b[0mpanel_data\u001b[0m\u001b[0;34m(\u001b[0m\u001b[0mdf\u001b[0m\u001b[0;34m,\u001b[0m \u001b[0midentifiers\u001b[0m\u001b[0;34m,\u001b[0m \u001b[0muser_command\u001b[0m\u001b[0;34m.\u001b[0m\u001b[0mvariables\u001b[0m\u001b[0;34m,\u001b[0m \u001b[0muser_command\u001b[0m\u001b[0;34m.\u001b[0m\u001b[0moptions\u001b[0m\u001b[0;34m)\u001b[0m\u001b[0;34m\u001b[0m\u001b[0;34m\u001b[0m\u001b[0m\n\u001b[1;32m     30\u001b[0m         \u001b[0mself\u001b[0m\u001b[0;34m.\u001b[0m\u001b[0mmodels\u001b[0m \u001b[0;34m=\u001b[0m \u001b[0;34m[\u001b[0m\u001b[0;34m]\u001b[0m\u001b[0;34m\u001b[0m\u001b[0;34m\u001b[0m\u001b[0m\n",
      "\u001b[0;32m~/opt/anaconda3/lib/python3.9/site-packages/pydynpd/command.py\u001b[0m in \u001b[0;36m__init__\u001b[0;34m(self, command_str, df_col_names)\u001b[0m\n\u001b[1;32m     62\u001b[0m         \u001b[0;31m# self.adjustable['indep']=[]\u001b[0m\u001b[0;34m\u001b[0m\u001b[0;34m\u001b[0m\u001b[0m\n\u001b[1;32m     63\u001b[0m \u001b[0;34m\u001b[0m\u001b[0m\n\u001b[0;32m---> 64\u001b[0;31m         \u001b[0mself\u001b[0m\u001b[0;34m.\u001b[0m\u001b[0mparse_command\u001b[0m\u001b[0;34m(\u001b[0m\u001b[0;34m)\u001b[0m\u001b[0;34m\u001b[0m\u001b[0;34m\u001b[0m\u001b[0m\n\u001b[0m\u001b[1;32m     65\u001b[0m \u001b[0;34m\u001b[0m\u001b[0m\n\u001b[1;32m     66\u001b[0m     \u001b[0;32mdef\u001b[0m \u001b[0mparse_command\u001b[0m\u001b[0;34m(\u001b[0m\u001b[0mself\u001b[0m\u001b[0;34m)\u001b[0m\u001b[0;34m:\u001b[0m\u001b[0;34m\u001b[0m\u001b[0;34m\u001b[0m\u001b[0m\n",
      "\u001b[0;32m~/opt/anaconda3/lib/python3.9/site-packages/pydynpd/command.py\u001b[0m in \u001b[0;36mparse_command\u001b[0;34m(self)\u001b[0m\n\u001b[1;32m     88\u001b[0m         \u001b[0mself\u001b[0m\u001b[0;34m.\u001b[0m\u001b[0mparse_gmm_iv\u001b[0m\u001b[0;34m(\u001b[0m\u001b[0mself\u001b[0m\u001b[0;34m.\u001b[0m\u001b[0mpart_2\u001b[0m\u001b[0;34m)\u001b[0m\u001b[0;34m\u001b[0m\u001b[0;34m\u001b[0m\u001b[0m\n\u001b[1;32m     89\u001b[0m \u001b[0;34m\u001b[0m\u001b[0m\n\u001b[0;32m---> 90\u001b[0;31m         \u001b[0mself\u001b[0m\u001b[0;34m.\u001b[0m\u001b[0mcheck_dep_indep\u001b[0m\u001b[0;34m(\u001b[0m\u001b[0;34m)\u001b[0m\u001b[0;34m\u001b[0m\u001b[0;34m\u001b[0m\u001b[0m\n\u001b[0m\u001b[1;32m     91\u001b[0m         \u001b[0mself\u001b[0m\u001b[0;34m.\u001b[0m\u001b[0mcheck_GMM\u001b[0m\u001b[0;34m(\u001b[0m\u001b[0;34m)\u001b[0m\u001b[0;34m\u001b[0m\u001b[0;34m\u001b[0m\u001b[0m\n\u001b[1;32m     92\u001b[0m         \u001b[0mself\u001b[0m\u001b[0;34m.\u001b[0m\u001b[0mcheck_iv\u001b[0m\u001b[0;34m(\u001b[0m\u001b[0;34m)\u001b[0m\u001b[0;34m\u001b[0m\u001b[0;34m\u001b[0m\u001b[0m\n",
      "\u001b[0;32m~/opt/anaconda3/lib/python3.9/site-packages/pydynpd/command.py\u001b[0m in \u001b[0;36mcheck_dep_indep\u001b[0;34m(self)\u001b[0m\n\u001b[1;32m    311\u001b[0m             \u001b[0mexit\u001b[0m\u001b[0;34m(\u001b[0m\u001b[0;34m)\u001b[0m\u001b[0;34m\u001b[0m\u001b[0;34m\u001b[0m\u001b[0m\n\u001b[1;32m    312\u001b[0m \u001b[0;34m\u001b[0m\u001b[0m\n\u001b[0;32m--> 313\u001b[0;31m         \u001b[0;32mif\u001b[0m \u001b[0mlen\u001b[0m\u001b[0;34m(\u001b[0m\u001b[0mdep_lags\u001b[0m\u001b[0;34m)\u001b[0m \u001b[0;34m>\u001b[0m \u001b[0;36m0\u001b[0m \u001b[0;32mand\u001b[0m \u001b[0mdep_lags\u001b[0m\u001b[0;34m[\u001b[0m\u001b[0;36m1\u001b[0m\u001b[0;34m]\u001b[0m \u001b[0;34m!=\u001b[0m \u001b[0;36m1\u001b[0m\u001b[0;34m:\u001b[0m\u001b[0;34m\u001b[0m\u001b[0;34m\u001b[0m\u001b[0m\n\u001b[0m\u001b[1;32m    314\u001b[0m             \u001b[0mprint\u001b[0m\u001b[0;34m(\u001b[0m\u001b[0;34m'lag 1 of the dependent variable is not included'\u001b[0m\u001b[0;34m)\u001b[0m\u001b[0;34m\u001b[0m\u001b[0;34m\u001b[0m\u001b[0m\n\u001b[1;32m    315\u001b[0m             \u001b[0mexit\u001b[0m\u001b[0;34m(\u001b[0m\u001b[0;34m)\u001b[0m\u001b[0;34m\u001b[0m\u001b[0;34m\u001b[0m\u001b[0m\n",
      "\u001b[0;31mIndexError\u001b[0m: list index out of range"
     ]
    }
   ],
   "source": [
    "\n",
    "command_str='sales labor capital  | gmm(sales, 2:.) gmm(labor, 2:.) gmm(capital, 2:.) | onestep nolevel timedumm'\n",
    "mypyd = regression.abond(command_str, df, ['id', 'year'])"
   ]
  },
  {
   "cell_type": "markdown",
   "id": "df4ed1a7-7cbc-44c7-8995-692a88bba69e",
   "metadata": {},
   "source": [
    "#### Q2.5. Arellano-Bond GMM estimator with time dummies and AR(1) transitory shock."
   ]
  },
  {
   "cell_type": "code",
   "execution_count": 54,
   "id": "a1a10eb1",
   "metadata": {},
   "outputs": [
    {
     "name": "stdout",
     "output_type": "stream",
     "text": [
      " Dynamic panel-data estimation, one-step difference GMM\n",
      " Group variable: id                               Number of obs = 3054    \n",
      " Time variable: year                              Min obs per group: 6    \n",
      " Number of instruments = 69                       Max obs per group: 6    \n",
      " Number of groups = 509                           Avg obs per group: 6.00 \n",
      "+-------------+------------+---------------------+------------+-----------+-----+\n",
      "|    sales    |   coef.    | Corrected Std. Err. |     z      |   P>|z|   |     |\n",
      "+-------------+------------+---------------------+------------+-----------+-----+\n",
      "|   L1.sales  | 0.3264209  |      0.0521606      | 6.2579990  | 0.0000000 | *** |\n",
      "|    labor    | 0.5128697  |      0.0892432      | 5.7468800  | 0.0000000 | *** |\n",
      "|   L1.labor  | 0.0726061  |      0.0927269      | 0.7830099  | 0.4336213 |     |\n",
      "|   capital   | 0.1318291  |      0.1179029      | 1.1181163  | 0.2635173 |     |\n",
      "|  L1.capital | -0.2066298 |      0.0949589      | -2.1759916 | 0.0295559 |  *  |\n",
      "| year_1984.0 | 0.0676096  |      0.0096508      | 7.0055860  | 0.0000000 | *** |\n",
      "| year_1985.0 | 0.0565042  |      0.0139574      | 4.0483301  | 0.0000516 | *** |\n",
      "| year_1986.0 | 0.0912990  |      0.0200443      | 4.5548644  | 0.0000052 | *** |\n",
      "| year_1987.0 | 0.1552384  |      0.0224468      | 6.9158321  | 0.0000000 | *** |\n",
      "| year_1988.0 | 0.1928607  |      0.0241222      | 7.9951648  | 0.0000000 | *** |\n",
      "| year_1989.0 | 0.1899966  |      0.0285349      | 6.6583857  | 0.0000000 | *** |\n",
      "+-------------+------------+---------------------+------------+-----------+-----+\n",
      "Hansen test of overid. restrictions: chi(58) = 98.391 Prob > Chi2 = 0.001\n",
      "Arellano-Bond test for AR(1) in first differences: z = -5.91 Pr > z =0.000\n",
      "Arellano-Bond test for AR(2) in first differences: z = -1.37 Pr > z =0.169\n",
      "\n"
     ]
    }
   ],
   "source": [
    "command_str='sales L1.sales labor L1.labor capital L1.capital  | gmm(sales, 2:.) gmm(labor, 2:.) gmm(capital, 2:.) | onestep nolevel timedumm'\n",
    "mypyd = regression.abond(command_str, df, ['id', 'year'])\n"
   ]
  },
  {
   "cell_type": "code",
   "execution_count": null,
   "id": "e6ef78a7",
   "metadata": {},
   "outputs": [],
   "source": []
  }
 ],
 "metadata": {
  "kernelspec": {
   "display_name": "Python 3 (ipykernel)",
   "language": "python",
   "name": "python3"
  },
  "language_info": {
   "codemirror_mode": {
    "name": "ipython",
    "version": 3
   },
   "file_extension": ".py",
   "mimetype": "text/x-python",
   "name": "python",
   "nbconvert_exporter": "python",
   "pygments_lexer": "ipython3",
   "version": "3.9.7"
  }
 },
 "nbformat": 4,
 "nbformat_minor": 5
}
