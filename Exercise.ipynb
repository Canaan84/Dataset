{
 "cells": [
  {
   "cell_type": "code",
   "execution_count": 122,
   "id": "8ecf1bcc-3f49-410b-83fc-79efa77bb051",
   "metadata": {},
   "outputs": [],
   "source": [
    "import numpy as np\n",
    "import scipy as sp\n",
    "import pandas as pd\n",
    "import matplotlib.pyplot as plt\n",
    "import random\n",
    "import pickle\n",
    "import statsmodels.api as sm\n",
    "from scipy.optimize import minimize\n",
    "from sklearn.linear_model import LinearRegression\n",
    "from statsmodels.sandbox.regression.gmm import IV2SLS\n",
    "from linearmodels import PanelOLS, PooledOLS"
   ]
  },
  {
   "cell_type": "code",
   "execution_count": 123,
   "id": "619821df-33a9-41a6-b431-10ba7fda5d7c",
   "metadata": {},
   "outputs": [],
   "source": [
    "import os\n",
    "os.chdir('/Users/jhongyihuang/Downloads') "
   ]
  },
  {
   "cell_type": "code",
   "execution_count": 124,
   "id": "c89f1210-2bef-4ca1-a67b-f0e3025eb429",
   "metadata": {},
   "outputs": [],
   "source": [
    "df = pd.read_stata('blundell_bond_2000_production_function.dta')\n",
    "df[[\"sales\", \"labor\", \"capital\"]] = np.log(df[[\"sales\", \"labor\", \"capital\"]])"
   ]
  },
  {
   "cell_type": "code",
   "execution_count": 125,
   "id": "4d4ca2a5-ba79-45f2-9231-af427eade049",
   "metadata": {},
   "outputs": [
    {
     "data": {
      "text/html": [
       "<div>\n",
       "<style scoped>\n",
       "    .dataframe tbody tr th:only-of-type {\n",
       "        vertical-align: middle;\n",
       "    }\n",
       "\n",
       "    .dataframe tbody tr th {\n",
       "        vertical-align: top;\n",
       "    }\n",
       "\n",
       "    .dataframe thead th {\n",
       "        text-align: right;\n",
       "    }\n",
       "</style>\n",
       "<table border=\"1\" class=\"dataframe\">\n",
       "  <thead>\n",
       "    <tr style=\"text-align: right;\">\n",
       "      <th></th>\n",
       "      <th>id</th>\n",
       "      <th>year</th>\n",
       "      <th>sales</th>\n",
       "      <th>labor</th>\n",
       "      <th>capital</th>\n",
       "    </tr>\n",
       "  </thead>\n",
       "  <tbody>\n",
       "    <tr>\n",
       "      <th>0</th>\n",
       "      <td>886.0</td>\n",
       "      <td>1982.0</td>\n",
       "      <td>4.579228</td>\n",
       "      <td>0.571544</td>\n",
       "      <td>3.577469</td>\n",
       "    </tr>\n",
       "    <tr>\n",
       "      <th>1</th>\n",
       "      <td>886.0</td>\n",
       "      <td>1983.0</td>\n",
       "      <td>4.472189</td>\n",
       "      <td>0.640801</td>\n",
       "      <td>3.610862</td>\n",
       "    </tr>\n",
       "    <tr>\n",
       "      <th>2</th>\n",
       "      <td>886.0</td>\n",
       "      <td>1984.0</td>\n",
       "      <td>4.567035</td>\n",
       "      <td>0.440832</td>\n",
       "      <td>3.694748</td>\n",
       "    </tr>\n",
       "    <tr>\n",
       "      <th>3</th>\n",
       "      <td>886.0</td>\n",
       "      <td>1985.0</td>\n",
       "      <td>4.885006</td>\n",
       "      <td>0.547543</td>\n",
       "      <td>3.796566</td>\n",
       "    </tr>\n",
       "    <tr>\n",
       "      <th>4</th>\n",
       "      <td>886.0</td>\n",
       "      <td>1986.0</td>\n",
       "      <td>4.999058</td>\n",
       "      <td>0.547543</td>\n",
       "      <td>3.976419</td>\n",
       "    </tr>\n",
       "  </tbody>\n",
       "</table>\n",
       "</div>"
      ],
      "text/plain": [
       "      id    year     sales     labor   capital\n",
       "0  886.0  1982.0  4.579228  0.571544  3.577469\n",
       "1  886.0  1983.0  4.472189  0.640801  3.610862\n",
       "2  886.0  1984.0  4.567035  0.440832  3.694748\n",
       "3  886.0  1985.0  4.885006  0.547543  3.796566\n",
       "4  886.0  1986.0  4.999058  0.547543  3.976419"
      ]
     },
     "execution_count": 125,
     "metadata": {},
     "output_type": "execute_result"
    }
   ],
   "source": [
    "df.head()"
   ]
  },
  {
   "cell_type": "code",
   "execution_count": 126,
   "id": "69e5a5d7-be24-44a1-8e0b-37d9e1ef3ef6",
   "metadata": {},
   "outputs": [
    {
     "name": "stdout",
     "output_type": "stream",
     "text": [
      "<class 'pandas.core.frame.DataFrame'>\n",
      "Int64Index: 4072 entries, 0 to 4071\n",
      "Data columns (total 5 columns):\n",
      " #   Column   Non-Null Count  Dtype  \n",
      "---  ------   --------------  -----  \n",
      " 0   id       4072 non-null   float32\n",
      " 1   year     4072 non-null   float32\n",
      " 2   sales    4072 non-null   float32\n",
      " 3   labor    4072 non-null   float32\n",
      " 4   capital  4072 non-null   float32\n",
      "dtypes: float32(5)\n",
      "memory usage: 111.3 KB\n"
     ]
    }
   ],
   "source": [
    "df.info()"
   ]
  },
  {
   "cell_type": "code",
   "execution_count": 127,
   "id": "247e3824-d47f-4c74-a921-6ef5c0e6aeae",
   "metadata": {},
   "outputs": [],
   "source": [
    "dummies = pd.get_dummies(df['year']).rename(columns=lambda x: 'year_' + str(x))\n",
    "df = pd.concat([df, dummies], axis=1)\n",
    "df = df.set_index(['id', 'year'])"
   ]
  },
  {
   "cell_type": "code",
   "execution_count": 134,
   "id": "bdfe5326-332d-4377-bbf8-cf3087812255",
   "metadata": {},
   "outputs": [],
   "source": [
    "exog_ind = ['labor', 'capital'] + [col for col in df.columns if 'year' in col]\n",
    "\n",
    "exog_var = df[exog_ind]\n",
    "endog_var = df['sales']\n",
    "\n",
    "\n",
    "\n",
    "model_OLS = sm.OLS(endog=endog_var, exog=exog_var).fit()"
   ]
  },
  {
   "cell_type": "code",
   "execution_count": 129,
   "id": "391ae58b-7754-42db-bda9-3e1eed2ab179",
   "metadata": {},
   "outputs": [
    {
     "name": "stdout",
     "output_type": "stream",
     "text": [
      "                            OLS Regression Results                            \n",
      "==============================================================================\n",
      "Dep. Variable:                  sales   R-squared:                       0.969\n",
      "Model:                            OLS   Adj. R-squared:                  0.969\n",
      "Method:                 Least Squares   F-statistic:                 1.425e+04\n",
      "Date:                Tue, 06 Jun 2023   Prob (F-statistic):               0.00\n",
      "Time:                        10:49:38   Log-Likelihood:                -1527.7\n",
      "No. Observations:                4072   AIC:                             3075.\n",
      "Df Residuals:                    4062   BIC:                             3139.\n",
      "Df Model:                           9                                         \n",
      "Covariance Type:            nonrobust                                         \n",
      "===============================================================================\n",
      "                  coef    std err          t      P>|t|      [0.025      0.975]\n",
      "-------------------------------------------------------------------------------\n",
      "labor           0.5579      0.010     56.761      0.000       0.539       0.577\n",
      "capital         0.4323      0.008     53.108      0.000       0.416       0.448\n",
      "year_1982.0     3.0468      0.032     96.644      0.000       2.985       3.109\n",
      "year_1983.0     2.9900      0.032     93.384      0.000       2.927       3.053\n",
      "year_1984.0     2.9968      0.033     91.932      0.000       2.933       3.061\n",
      "year_1985.0     2.9593      0.033     88.712      0.000       2.894       3.025\n",
      "year_1986.0     2.9540      0.034     87.051      0.000       2.887       3.021\n",
      "year_1987.0     2.9887      0.034     87.450      0.000       2.922       3.056\n",
      "year_1988.0     3.0257      0.034     88.144      0.000       2.958       3.093\n",
      "year_1989.0     3.0086      0.035     86.099      0.000       2.940       3.077\n",
      "==============================================================================\n",
      "Omnibus:                      302.557   Durbin-Watson:                   0.422\n",
      "Prob(Omnibus):                  0.000   Jarque-Bera (JB):              523.230\n",
      "Skew:                           0.549   Prob(JB):                    2.41e-114\n",
      "Kurtosis:                       4.370   Cond. No.                         90.2\n",
      "==============================================================================\n",
      "\n",
      "Notes:\n",
      "[1] Standard Errors assume that the covariance matrix of the errors is correctly specified.\n"
     ]
    }
   ],
   "source": [
    "print(model_OLS.summary())"
   ]
  },
  {
   "cell_type": "code",
   "execution_count": 130,
   "id": "ebdeba07-d2a3-4538-8e78-6ca742ec5418",
   "metadata": {},
   "outputs": [
    {
     "name": "stdout",
     "output_type": "stream",
     "text": [
      "[1. 1. 0. 0. 0. 0. 0. 0. 0. 0.]\n"
     ]
    }
   ],
   "source": [
    "R = np.zeros_like(res.params)\n",
    "R[0:2] = [1, 1]\n",
    "print(R)\n",
    "q = 1"
   ]
  },
  {
   "cell_type": "code",
   "execution_count": 131,
   "id": "ad122131-cc63-49a6-8b7d-d2789b06f8bd",
   "metadata": {},
   "outputs": [],
   "source": [
    "T_test = res.t_test((R, q))"
   ]
  },
  {
   "cell_type": "code",
   "execution_count": 132,
   "id": "efb67387-c4e9-4d49-8222-76de176342d2",
   "metadata": {},
   "outputs": [
    {
     "data": {
      "text/plain": [
       "<class 'statsmodels.stats.contrast.ContrastResults'>\n",
       "                             Test for Constraints                             \n",
       "==============================================================================\n",
       "                 coef    std err          t      P>|t|      [0.025      0.975]\n",
       "------------------------------------------------------------------------------\n",
       "c0             0.9902      0.003     -3.049      0.002       0.984       0.996\n",
       "=============================================================================="
      ]
     },
     "execution_count": 132,
     "metadata": {},
     "output_type": "execute_result"
    }
   ],
   "source": [
    "T_test"
   ]
  },
  {
   "cell_type": "code",
   "execution_count": 133,
   "id": "3ad34d6c-7bb7-402e-94da-6b786be5d457",
   "metadata": {},
   "outputs": [
    {
     "name": "stdout",
     "output_type": "stream",
     "text": [
      "                          PanelOLS Estimation Summary                           \n",
      "================================================================================\n",
      "Dep. Variable:                  sales   R-squared:                        0.7379\n",
      "Estimator:                   PanelOLS   R-squared (Between):              0.9537\n",
      "No. Observations:                4072   R-squared (Within):               0.7379\n",
      "Date:                Tue, Jun 06 2023   R-squared (Overall):              0.9498\n",
      "Time:                        10:49:39   Log-likelihood                    2302.2\n",
      "Cov. Estimator:            Unadjusted                                           \n",
      "                                        F-statistic:                      1111.5\n",
      "Entities:                         509   P-value                           0.0000\n",
      "Avg Obs:                       8.0000   Distribution:                  F(9,3554)\n",
      "Min Obs:                       8.0000                                           \n",
      "Max Obs:                       8.0000   F-statistic (robust):          6.321e+05\n",
      "                                        P-value                           0.0000\n",
      "Time periods:                       8   Distribution:                  F(9,3554)\n",
      "Avg Obs:                       509.00                                           \n",
      "Min Obs:                       509.00                                           \n",
      "Max Obs:                       509.00                                           \n",
      "                                                                                \n",
      "                              Parameter Estimates                              \n",
      "===============================================================================\n",
      "             Parameter  Std. Err.     T-stat    P-value    Lower CI    Upper CI\n",
      "-------------------------------------------------------------------------------\n",
      "labor           0.6545     0.0144     45.434     0.0000      0.6262      0.6827\n",
      "capital         0.2329     0.0136     17.079     0.0000      0.2062      0.2596\n",
      "year_1982.0     3.8638     0.0529     73.000     0.0000      3.7600      3.9676\n",
      "year_1983.0     3.8262     0.0541     70.689     0.0000      3.7200      3.9323\n",
      "year_1984.0     3.8562     0.0556     69.398     0.0000      3.7472      3.9651\n",
      "year_1985.0     3.8404     0.0570     67.373     0.0000      3.7286      3.9521\n",
      "year_1986.0     3.8502     0.0580     66.360     0.0000      3.7364      3.9639\n",
      "year_1987.0     3.8952     0.0586     66.416     0.0000      3.7802      4.0102\n",
      "year_1988.0     3.9392     0.0591     66.683     0.0000      3.8233      4.0550\n",
      "year_1989.0     3.9402     0.0603     65.382     0.0000      3.8221      4.0584\n",
      "===============================================================================\n",
      "\n",
      "F-test for Poolability: 38.903\n",
      "P-value: 0.0000\n",
      "Distribution: F(508,3554)\n",
      "\n",
      "Included effects: Entity\n"
     ]
    }
   ],
   "source": [
    "model_FE = PanelOLS(dependent=endog_var, exog=exog_var, entity_effects=True).fit()\n",
    "\n",
    "print(model_FE.summary)"
   ]
  },
  {
   "cell_type": "code",
   "execution_count": 135,
   "id": "77fcbd51-2a8f-486f-a688-25c73054d415",
   "metadata": {},
   "outputs": [
    {
     "data": {
      "text/plain": [
       "Linear Equality Hypothesis Test\n",
       "H0: Linear equality constraint is valid\n",
       "Statistic: 121.3166\n",
       "P-value: 0.0000\n",
       "Distributed: chi2(1)\n",
       "WaldTestStatistic, id: 0x7fc7a7368af0"
      ]
     },
     "execution_count": 135,
     "metadata": {},
     "output_type": "execute_result"
    }
   ],
   "source": [
    "formula = 'labor + capital = 1'\n",
    "\n",
    "model_FE.wald_test(formula=formula)"
   ]
  },
  {
   "cell_type": "code",
   "execution_count": null,
   "id": "302b9cc2-b066-40b1-a2c1-c212a1777c36",
   "metadata": {},
   "outputs": [],
   "source": []
  }
 ],
 "metadata": {
  "kernelspec": {
   "display_name": "Python 3 (ipykernel)",
   "language": "python",
   "name": "python3"
  },
  "language_info": {
   "codemirror_mode": {
    "name": "ipython",
    "version": 3
   },
   "file_extension": ".py",
   "mimetype": "text/x-python",
   "name": "python",
   "nbconvert_exporter": "python",
   "pygments_lexer": "ipython3",
   "version": "3.9.7"
  }
 },
 "nbformat": 4,
 "nbformat_minor": 5
}
